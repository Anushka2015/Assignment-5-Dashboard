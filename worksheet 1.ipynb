{
 "cells": [
  {
   "cell_type": "code",
   "execution_count": null,
   "id": "1f498015",
   "metadata": {},
   "outputs": [],
   "source": [
    "#Q1. What does an empty dictionary's code look like?\n",
    "#Ans d1={} or d1=dict()"
   ]
  },
  {
   "cell_type": "code",
   "execution_count": 3,
   "id": "7b445bfc",
   "metadata": {},
   "outputs": [
    {
     "data": {
      "text/plain": [
       "dict_values([42])"
      ]
     },
     "execution_count": 3,
     "metadata": {},
     "output_type": "execute_result"
    }
   ],
   "source": [
    "#Q2. What is the value of a dictionary value with the key  \"foo\" and the value \" 42\"?\n",
    "d1={\"foo\":42}\n",
    "d1.values()"
   ]
  },
  {
   "cell_type": "code",
   "execution_count": null,
   "id": "dd211301",
   "metadata": {},
   "outputs": [],
   "source": [
    "#Q3. What is the most significant distinction between a dictionary and a list?\n",
    "#List-----list is mutable,ordered and allows duplicates and written within [].\n",
    "#Dictionary--------dictionary is mutable but key is not,ordered,written with in {} \n",
    "#with key value pair connected by colon :,keys not allowed duplicates.\n"
   ]
  },
  {
   "cell_type": "code",
   "execution_count": 4,
   "id": "a7b4bd5c",
   "metadata": {},
   "outputs": [
    {
     "ename": "TypeError",
     "evalue": "'dict' object is not callable",
     "output_type": "error",
     "traceback": [
      "\u001b[1;31m---------------------------------------------------------------------------\u001b[0m",
      "\u001b[1;31mTypeError\u001b[0m                                 Traceback (most recent call last)",
      "Input \u001b[1;32mIn [4]\u001b[0m, in \u001b[0;36m<cell line: 3>\u001b[1;34m()\u001b[0m\n\u001b[0;32m      1\u001b[0m \u001b[38;5;66;03m#Q4.What happens if you try to access spam[\"foo\"] if spam is {\"bar\": 100}?\u001b[39;00m\n\u001b[0;32m      2\u001b[0m spam\u001b[38;5;241m=\u001b[39m{\u001b[38;5;124m\"\u001b[39m\u001b[38;5;124mbar\u001b[39m\u001b[38;5;124m\"\u001b[39m: \u001b[38;5;241m100\u001b[39m}\n\u001b[1;32m----> 3\u001b[0m \u001b[43mspam\u001b[49m\u001b[43m(\u001b[49m\u001b[38;5;124;43m\"\u001b[39;49m\u001b[38;5;124;43mfoo\u001b[39;49m\u001b[38;5;124;43m\"\u001b[39;49m\u001b[43m)\u001b[49m\n",
      "\u001b[1;31mTypeError\u001b[0m: 'dict' object is not callable"
     ]
    }
   ],
   "source": [
    "#Q4.What happens if you try to access spam[\"foo\"] if spam is {\"bar\": 100}?\n",
    "spam={\"bar\": 100}\n",
    "spam(\"foo\")"
   ]
  },
  {
   "cell_type": "code",
   "execution_count": null,
   "id": "ccb0c957",
   "metadata": {},
   "outputs": [],
   "source": [
    "#Ans: \"foo\" is not present as key in spam that is why after run the code it throw an type error."
   ]
  },
  {
   "cell_type": "code",
   "execution_count": 13,
   "id": "b5f6bec9",
   "metadata": {},
   "outputs": [
    {
     "data": {
      "text/plain": [
       "dict_keys(['cat'])"
      ]
     },
     "execution_count": 13,
     "metadata": {},
     "output_type": "execute_result"
    }
   ],
   "source": [
    "#Q5. If a dictionary is stored in spam, what is the difference between the expressions \"cat\" in spam and\n",
    "#\"cat\" in spam.keys()?\n",
    "spam={\"cat\":1}\n",
    "spam.keys()"
   ]
  },
  {
   "cell_type": "code",
   "execution_count": null,
   "id": "bd5675f9",
   "metadata": {},
   "outputs": [],
   "source": [
    "# expression \"cat\" is key. and spam.keys() is value of key i.e \"cat\"."
   ]
  },
  {
   "cell_type": "code",
   "execution_count": null,
   "id": "69161194",
   "metadata": {},
   "outputs": [],
   "source": [
    "#Q6. If a dictionary is stored in spam, what is the difference between the expressions \"cat\" in spam and\n",
    "#\"cat\" in spam.values()?\n",
    "#Ans: \"cat\" in spam means-----is \"cat\" is key in given dictionary spam.\n",
    "#cat\" in spam.values() means---------is \"cat\" is available as a value in spam?"
   ]
  },
  {
   "cell_type": "code",
   "execution_count": 7,
   "id": "99b15e07",
   "metadata": {},
   "outputs": [],
   "source": [
    "#Q7. What is a shortcut for the following code?\n",
    "#if \"color\" not in spam:\n",
    "#spam[\"color\"] = \"black\"\n",
    "#Ans:  spam.setdefault('color', 'black')"
   ]
  },
  {
   "cell_type": "code",
   "execution_count": 8,
   "id": "028678e6",
   "metadata": {},
   "outputs": [],
   "source": [
    "#Q8. How do you \"pretty print\"dictionary values using which module and function?\n",
    "#Ans:pprint.pprint()"
   ]
  },
  {
   "cell_type": "code",
   "execution_count": null,
   "id": "19acaffa",
   "metadata": {},
   "outputs": [],
   "source": []
  }
 ],
 "metadata": {
  "kernelspec": {
   "display_name": "Python 3 (ipykernel)",
   "language": "python",
   "name": "python3"
  },
  "language_info": {
   "codemirror_mode": {
    "name": "ipython",
    "version": 3
   },
   "file_extension": ".py",
   "mimetype": "text/x-python",
   "name": "python",
   "nbconvert_exporter": "python",
   "pygments_lexer": "ipython3",
   "version": "3.9.0"
  }
 },
 "nbformat": 4,
 "nbformat_minor": 5
}
